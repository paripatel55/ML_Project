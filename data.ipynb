{
 "cells": [
  {
   "cell_type": "code",
   "execution_count": 5,
   "id": "78c7e8ff",
   "metadata": {},
   "outputs": [
    {
     "data": {
      "text/html": [
       "<div>\n",
       "<style scoped>\n",
       "    .dataframe tbody tr th:only-of-type {\n",
       "        vertical-align: middle;\n",
       "    }\n",
       "\n",
       "    .dataframe tbody tr th {\n",
       "        vertical-align: top;\n",
       "    }\n",
       "\n",
       "    .dataframe thead th {\n",
       "        text-align: right;\n",
       "    }\n",
       "</style>\n",
       "<table border=\"1\" class=\"dataframe\">\n",
       "  <thead>\n",
       "    <tr style=\"text-align: right;\">\n",
       "      <th></th>\n",
       "      <th>Age</th>\n",
       "      <th>Gender</th>\n",
       "      <th>Education</th>\n",
       "      <th>Introversion Score</th>\n",
       "      <th>Sensing Score</th>\n",
       "      <th>Thinking Score</th>\n",
       "      <th>Judging Score</th>\n",
       "      <th>Interest</th>\n",
       "      <th>Personality</th>\n",
       "    </tr>\n",
       "  </thead>\n",
       "  <tbody>\n",
       "    <tr>\n",
       "      <th>0</th>\n",
       "      <td>21.0</td>\n",
       "      <td>Female</td>\n",
       "      <td>1</td>\n",
       "      <td>5.89208</td>\n",
       "      <td>2.144395</td>\n",
       "      <td>7.32363</td>\n",
       "      <td>5.462224</td>\n",
       "      <td>Arts</td>\n",
       "      <td>ENTP</td>\n",
       "    </tr>\n",
       "    <tr>\n",
       "      <th>1</th>\n",
       "      <td>24.0</td>\n",
       "      <td>Female</td>\n",
       "      <td>1</td>\n",
       "      <td>2.48366</td>\n",
       "      <td>3.206188</td>\n",
       "      <td>8.06876</td>\n",
       "      <td>3.765012</td>\n",
       "      <td>Unknown</td>\n",
       "      <td>INTP</td>\n",
       "    </tr>\n",
       "    <tr>\n",
       "      <th>2</th>\n",
       "      <td>26.0</td>\n",
       "      <td>Female</td>\n",
       "      <td>1</td>\n",
       "      <td>7.02910</td>\n",
       "      <td>6.469302</td>\n",
       "      <td>4.16472</td>\n",
       "      <td>5.454442</td>\n",
       "      <td>Others</td>\n",
       "      <td>ESFP</td>\n",
       "    </tr>\n",
       "    <tr>\n",
       "      <th>3</th>\n",
       "      <td>30.0</td>\n",
       "      <td>Male</td>\n",
       "      <td>0</td>\n",
       "      <td>5.46525</td>\n",
       "      <td>4.179244</td>\n",
       "      <td>2.82487</td>\n",
       "      <td>5.080477</td>\n",
       "      <td>Sports</td>\n",
       "      <td>ENFJ</td>\n",
       "    </tr>\n",
       "    <tr>\n",
       "      <th>4</th>\n",
       "      <td>31.0</td>\n",
       "      <td>Female</td>\n",
       "      <td>0</td>\n",
       "      <td>3.59804</td>\n",
       "      <td>6.189259</td>\n",
       "      <td>5.31347</td>\n",
       "      <td>3.677984</td>\n",
       "      <td>Others</td>\n",
       "      <td>ISFP</td>\n",
       "    </tr>\n",
       "  </tbody>\n",
       "</table>\n",
       "</div>"
      ],
      "text/plain": [
       "    Age  Gender  Education  Introversion Score  Sensing Score  Thinking Score  \\\n",
       "0  21.0  Female          1             5.89208       2.144395         7.32363   \n",
       "1  24.0  Female          1             2.48366       3.206188         8.06876   \n",
       "2  26.0  Female          1             7.02910       6.469302         4.16472   \n",
       "3  30.0    Male          0             5.46525       4.179244         2.82487   \n",
       "4  31.0  Female          0             3.59804       6.189259         5.31347   \n",
       "\n",
       "   Judging Score Interest Personality  \n",
       "0       5.462224     Arts        ENTP  \n",
       "1       3.765012  Unknown        INTP  \n",
       "2       5.454442   Others        ESFP  \n",
       "3       5.080477   Sports        ENFJ  \n",
       "4       3.677984   Others        ISFP  "
      ]
     },
     "execution_count": 5,
     "metadata": {},
     "output_type": "execute_result"
    }
   ],
   "source": [
    "import pandas as pd\n",
    "\n",
    "# Load the dataset\n",
    "df = pd.read_csv(\"data.csv\")\n",
    "\n",
    "# Check the first few rows\n",
    "df.head()"
   ]
  },
  {
   "cell_type": "code",
   "execution_count": 13,
   "id": "a18aacb0",
   "metadata": {},
   "outputs": [
    {
     "name": "stdout",
     "output_type": "stream",
     "text": [
      "Missing values:\n",
      " Age                   0\n",
      "Gender                0\n",
      "Education             0\n",
      "Introversion Score    0\n",
      "Sensing Score         0\n",
      "Thinking Score        0\n",
      "Judging Score         0\n",
      "Interest              0\n",
      "Personality           0\n",
      "dtype: int64\n",
      "\n",
      "Number of duplicate rows: 0\n"
     ]
    }
   ],
   "source": [
    "print(\"Missing values:\\n\", df.isnull().sum())\n",
    "print(\"\\nNumber of duplicate rows:\", df.duplicated().sum())\n",
    "df = df.drop_duplicates()"
   ]
  },
  {
   "cell_type": "code",
   "execution_count": null,
   "id": "49267de0",
   "metadata": {},
   "outputs": [],
   "source": [
    "# split personality into 4 binary target variables \n",
    "df['IE'] = df['Personality'].apply(lambda x: 1 if x[0] == 'I' else 0)\n",
    "df['SN'] = df['Personality'].apply(lambda x: 1 if x[1] == 'N' else 0)\n",
    "df['TF'] = df['Personality'].apply(lambda x: 1 if x[2] == 'T' else 0)\n",
    "df['JP'] = df['Personality'].apply(lambda x: 1 if x[3] == 'J' else 0)"
   ]
  },
  {
   "cell_type": "code",
   "execution_count": 15,
   "id": "a5f03c57",
   "metadata": {},
   "outputs": [],
   "source": [
    "from sklearn.preprocessing import StandardScaler\n",
    "# encoding categorical variables (gender and interests)\n",
    "\n",
    "# set unknown as the baseline category (it will be the one dropped)\n",
    "df['Interest'] = pd.Categorical(df['Interest'], \n",
    "                                 categories=['Unknown', 'Arts', 'Others', 'Sports', 'Technology'],\n",
    "                                 ordered=True)\n",
    "\n",
    "#dummy variable encoding \n",
    "df_new = pd.get_dummies(df, columns=['Gender', 'Interest'], drop_first=True)\n",
    "\n",
    "df_new.drop(columns=['Personality'], inplace=True)\n",
    "\n",
    "# features we are going to train our model with \n",
    "feature_cols = ['Age', 'Education', 'Introversion Score', 'Sensing Score',\n",
    "                'Thinking Score', 'Judging Score'] + \\\n",
    "               [col for col in df_new.columns if col.startswith('Gender_') or col.startswith('Interest_')]\n",
    "\n",
    "# scale numeric features \n",
    "scaler = StandardScaler()\n",
    "#overwrite feature columns with scaled versions\n",
    "df_new[feature_cols] = scaler.fit_transform(df_new[feature_cols])\n",
    "\n"
   ]
  },
  {
   "cell_type": "code",
   "execution_count": 17,
   "id": "526ceb03",
   "metadata": {},
   "outputs": [
    {
     "data": {
      "text/plain": [
       "'\\nprint(\"Missing values:\\n\", df_new.isnull().sum().sum())\\nprint(\"Duplicate rows:\", df_new.duplicated().sum())\\nprint(\"\\nScaled feature stats:\")\\nprint(df_new[feature_cols].describe().T[[\\'mean\\', \\'std\\']])\\nprint(\"\\nExample dummy encoding (first 5 rows):\")\\nprint(df_new.filter(like=\\'Interest_\\').head())\\n'"
      ]
     },
     "execution_count": 17,
     "metadata": {},
     "output_type": "execute_result"
    }
   ],
   "source": [
    "# test pre-processing \n",
    "'''\n",
    "print(\"Missing values:\\n\", df_new.isnull().sum().sum())\n",
    "print(\"Duplicate rows:\", df_new.duplicated().sum())\n",
    "print(\"\\nScaled feature stats:\")\n",
    "print(df_new[feature_cols].describe().T[['mean', 'std']])\n",
    "print(\"\\nExample dummy encoding (first 5 rows):\")\n",
    "print(df_new.filter(like='Interest_').head())\n",
    "'''"
   ]
  },
  {
   "cell_type": "code",
   "execution_count": null,
   "id": "b81fad06",
   "metadata": {},
   "outputs": [],
   "source": []
  }
 ],
 "metadata": {
  "kernelspec": {
   "display_name": "Python [conda env:base] *",
   "language": "python",
   "name": "conda-base-py"
  },
  "language_info": {
   "codemirror_mode": {
    "name": "ipython",
    "version": 3
   },
   "file_extension": ".py",
   "mimetype": "text/x-python",
   "name": "python",
   "nbconvert_exporter": "python",
   "pygments_lexer": "ipython3",
   "version": "3.11.7"
  }
 },
 "nbformat": 4,
 "nbformat_minor": 5
}
